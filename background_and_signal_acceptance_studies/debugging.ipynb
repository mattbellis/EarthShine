{
 "cells": [
  {
   "cell_type": "code",
   "execution_count": null,
   "id": "7736ff6a-5a5e-4767-824a-223282600c36",
   "metadata": {},
   "outputs": [],
   "source": [
    "import phasespace\n",
    "import numpy as np"
   ]
  },
  {
   "cell_type": "code",
   "execution_count": null,
   "id": "aea0bb10-28ea-44c8-9e7a-90d9ca4e42ed",
   "metadata": {},
   "outputs": [],
   "source": [
    "MASS_PARENT = 100 # GeV/c^2\n",
    "MASS_CHILD = 10   # GeV/c^2\n",
    "\n",
    "pmag = 500 # GeV/c\n",
    "\n",
    "nevents_to_generate = 10\n",
    "\n",
    "boost_vector = np.array([0,0, pmag, np.sqrt(pmag**2 + MASS_PARENT**2)])\n",
    "boost_vectors = np.tile(boost_vector, (nevents_to_generate,1))\n",
    "\n",
    "print(\"Created the boost vector and tiled it so that we have a boost vector for each decay we are simulating\")\n",
    "print()\n",
    "print(boost_vectors)\n",
    "print()\n",
    "\n",
    "print(f\"Generating {nevents_to_generate} decays\")\n",
    "\n",
    "weights, particles = phasespace.nbody_decay(MASS_PARENT, \\\n",
    "                                            [MASS_CHILD, MASS_CHILD]).generate(n_events=nevents_to_generate, boost_to=boost_vectors)\n",
    "\n",
    "print(\"Generated the decays!\")\n",
    "print()\n",
    "print(particles)"
   ]
  },
  {
   "cell_type": "code",
   "execution_count": null,
   "id": "7fc7ba27-2825-44f1-a275-a8eabd70b289",
   "metadata": {},
   "outputs": [],
   "source": []
  }
 ],
 "metadata": {
  "kernelspec": {
   "display_name": "Python 3 (ipykernel)",
   "language": "python",
   "name": "python3"
  },
  "language_info": {
   "codemirror_mode": {
    "name": "ipython",
    "version": 3
   },
   "file_extension": ".py",
   "mimetype": "text/x-python",
   "name": "python",
   "nbconvert_exporter": "python",
   "pygments_lexer": "ipython3",
   "version": "3.11.7"
  }
 },
 "nbformat": 4,
 "nbformat_minor": 5
}
